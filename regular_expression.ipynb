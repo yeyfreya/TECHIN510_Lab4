{
 "cells": [
  {
   "cell_type": "markdown",
   "metadata": {},
   "source": [
    "# Practice Problems"
   ]
  },
  {
   "cell_type": "markdown",
   "metadata": {},
   "source": [
    "\n",
    "## Problem 1: Email Extraction\n",
    "Problem: Extract emails from a given string.\n",
    "\n",
    "String: \"Contact us at support@example.com or sales@example.org\"\n"
   ]
  },
  {
   "cell_type": "code",
   "execution_count": 2,
   "metadata": {},
   "outputs": [
    {
     "name": "stdout",
     "output_type": "stream",
     "text": [
      "['moodai@moodai.com', 'sales@moodai.org']\n"
     ]
    }
   ],
   "source": [
    "import re\n",
    "string = \"Contact us at moodai@moodai.com or sales@moodai.org\"\n",
    "emails = re.findall(r'\\b[A-Za-z0-9._%+-]+@[A-Za-z0-9.-]+\\.[A-Z|a-z]{2,}\\b', string)\n",
    "print(emails)"
   ]
  },
  {
   "cell_type": "markdown",
   "metadata": {},
   "source": [
    "## Problem 2: Phone Number Validation\n",
    "Problem: Validate and extract US phone numbers in the format xxx-xxx-xxxx.\n",
    "\n",
    "String: \"My numbers are 123-456-7890 or 333-333-3333\"\n"
   ]
  },
  {
   "cell_type": "code",
   "execution_count": 3,
   "metadata": {},
   "outputs": [
    {
     "name": "stdout",
     "output_type": "stream",
     "text": [
      "['123-456-7890', '333-333-3333']\n"
     ]
    }
   ],
   "source": [
    "string = \"My numbers are 123-456-7890 or 333-333-3333\"\n",
    "phone_numbers = re.findall(r'\\b\\d{3}-\\d{3}-\\d{4}\\b', string)\n",
    "print(phone_numbers)\n"
   ]
  },
  {
   "cell_type": "markdown",
   "metadata": {},
   "source": [
    "## Problem 3: Password Strength Check\n",
    "Problem: Check if a password is at least 8 characters long, contains a digit, an uppercase, and a lowercase letter.\n",
    "\n",
    "String: \"Password1\"\n",
    "\n"
   ]
  },
  {
   "cell_type": "code",
   "execution_count": 5,
   "metadata": {},
   "outputs": [
    {
     "name": "stdout",
     "output_type": "stream",
     "text": [
      "True\n"
     ]
    }
   ],
   "source": [
    "string = \"Password1\"\n",
    "password_check = bool(re.search(r'(?=.*\\d)(?=.*[a-z])(?=.*[A-Z]).{8,}', string))\n",
    "print(password_check)\n"
   ]
  },
  {
   "cell_type": "code",
   "execution_count": 6,
   "metadata": {},
   "outputs": [
    {
     "name": "stdout",
     "output_type": "stream",
     "text": [
      "False\n"
     ]
    }
   ],
   "source": [
    "string = \"abcdefgh\"\n",
    "password_check = bool(re.search(r'(?=.*\\d)(?=.*[a-z])(?=.*[A-Z]).{8,}', string))\n",
    "print(password_check)"
   ]
  },
  {
   "cell_type": "code",
   "execution_count": 8,
   "metadata": {},
   "outputs": [
    {
     "name": "stdout",
     "output_type": "stream",
     "text": [
      "False\n"
     ]
    }
   ],
   "source": [
    "string = \"app1ep1e\"\n",
    "password_check = bool(re.search(r'(?=.*\\d)(?=.*[a-z])(?=.*[A-Z]).{8,}', string))\n",
    "print(password_check)"
   ]
  },
  {
   "cell_type": "markdown",
   "metadata": {},
   "source": [
    "## Problem 4: Extracting Domain Name\n",
    "Problem: Extract the domain name from an email address.\n",
    "\n",
    "String: \"user@example.com\"\n"
   ]
  },
  {
   "cell_type": "code",
   "execution_count": 9,
   "metadata": {},
   "outputs": [
    {
     "name": "stdout",
     "output_type": "stream",
     "text": [
      "moodai.com\n"
     ]
    }
   ],
   "source": [
    "string = \"moodai@moodai.com\"\n",
    "domain_name = string.split('@')[-1]\n",
    "print(domain_name)\n"
   ]
  },
  {
   "cell_type": "markdown",
   "metadata": {},
   "source": [
    "\n",
    "## Problem 5: Validating an IP Address\n",
    "Problem: Check if a string is a valid IPv4 address.\n",
    "\n",
    "String: \"192.168.1.1\""
   ]
  },
  {
   "cell_type": "code",
   "execution_count": 10,
   "metadata": {},
   "outputs": [
    {
     "name": "stdout",
     "output_type": "stream",
     "text": [
      "True\n"
     ]
    }
   ],
   "source": [
    "string = \"192.168.1.1\"\n",
    "ip_check = bool(re.match(r'^(?:(?:25[0-5]|2[0-4][0-9]|[01]?[0-9][0-9]?)\\.){3}(?:25[0-5]|2[0-4][0-9]|[01]?[0-9][0-9]?)$', string))\n",
    "print(ip_check)\n"
   ]
  },
  {
   "cell_type": "code",
   "execution_count": 11,
   "metadata": {},
   "outputs": [
    {
     "name": "stdout",
     "output_type": "stream",
     "text": [
      "False\n"
     ]
    }
   ],
   "source": [
    "string = \"1598.3654.9.635\"\n",
    "ip_check = bool(re.match(r'^(?:(?:25[0-5]|2[0-4][0-9]|[01]?[0-9][0-9]?)\\.){3}(?:25[0-5]|2[0-4][0-9]|[01]?[0-9][0-9]?)$', string))\n",
    "print(ip_check)\n"
   ]
  }
 ],
 "metadata": {
  "kernelspec": {
   "display_name": "base",
   "language": "python",
   "name": "python3"
  },
  "language_info": {
   "codemirror_mode": {
    "name": "ipython",
    "version": 3
   },
   "file_extension": ".py",
   "mimetype": "text/x-python",
   "name": "python",
   "nbconvert_exporter": "python",
   "pygments_lexer": "ipython3",
   "version": "3.11.5"
  }
 },
 "nbformat": 4,
 "nbformat_minor": 2
}
